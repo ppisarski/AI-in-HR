{
 "cells": [
  {
   "cell_type": "markdown",
   "metadata": {},
   "source": [
    "# 04. Recommend Courses to Employees\n",
    "\n",
    "This exercise builds a model that predicts the rating, a given employee will provide for a given course. We then use this model to identify courses that the employee would prefer most\n",
    "\n"
   ]
  },
  {
   "cell_type": "code",
   "execution_count": 1,
   "metadata": {},
   "outputs": [
    {
     "name": "stdout",
     "output_type": "stream",
     "text": [
      "Collecting package metadata (current_repodata.json): done\n",
      "Solving environment: done\n",
      "\n",
      "\n",
      "==> WARNING: A newer version of conda exists. <==\n",
      "  current version: 4.8.2\n",
      "  latest version: 4.8.3\n",
      "\n",
      "Please update conda by running\n",
      "\n",
      "    $ conda update -n base -c defaults conda\n",
      "\n",
      "\n",
      "\n",
      "## Package Plan ##\n",
      "\n",
      "  environment location: /opt/anaconda3/envs/hr\n",
      "\n",
      "  added / updated specs:\n",
      "    - pandas\n",
      "    - scikit-learn\n",
      "    - tensorflow\n",
      "\n",
      "\n",
      "The following NEW packages will be INSTALLED:\n",
      "\n",
      "  joblib             pkgs/main/noarch::joblib-0.15.1-py_0\n",
      "  llvm-openmp        pkgs/main/osx-64::llvm-openmp-10.0.0-h28b9765_0\n",
      "  scikit-learn       pkgs/main/osx-64::scikit-learn-0.22.1-py37h27c97d8_0\n",
      "\n",
      "\n",
      "Preparing transaction: done\n",
      "Verifying transaction: done\n",
      "Executing transaction: done\n"
     ]
    }
   ],
   "source": [
    "#Install all related packages. If you find additional packages missing, please follow the same technique.\n",
    "#If you are not using anaconda, then use pip to install the same packages\n",
    "\n",
    "import sys\n",
    "!conda install --yes --prefix {sys.prefix} pandas tensorflow scikit-learn"
   ]
  },
  {
   "cell_type": "markdown",
   "metadata": {},
   "source": [
    "## 04.04. Prepare for Embedding"
   ]
  },
  {
   "cell_type": "code",
   "execution_count": 2,
   "metadata": {},
   "outputs": [
    {
     "data": {
      "text/html": [
       "<div>\n",
       "<style scoped>\n",
       "    .dataframe tbody tr th:only-of-type {\n",
       "        vertical-align: middle;\n",
       "    }\n",
       "\n",
       "    .dataframe tbody tr th {\n",
       "        vertical-align: top;\n",
       "    }\n",
       "\n",
       "    .dataframe thead th {\n",
       "        text-align: right;\n",
       "    }\n",
       "</style>\n",
       "<table border=\"1\" class=\"dataframe\">\n",
       "  <thead>\n",
       "    <tr style=\"text-align: right;\">\n",
       "      <th></th>\n",
       "      <th>EmployeeID</th>\n",
       "      <th>EmpName</th>\n",
       "      <th>CourseID</th>\n",
       "      <th>CourseName</th>\n",
       "      <th>Rating</th>\n",
       "    </tr>\n",
       "  </thead>\n",
       "  <tbody>\n",
       "    <tr>\n",
       "      <th>0</th>\n",
       "      <td>1408</td>\n",
       "      <td>Ignace Ormonde</td>\n",
       "      <td>14</td>\n",
       "      <td>Video Production</td>\n",
       "      <td>3</td>\n",
       "    </tr>\n",
       "    <tr>\n",
       "      <th>1</th>\n",
       "      <td>1249</td>\n",
       "      <td>Gabriela Balcon</td>\n",
       "      <td>17</td>\n",
       "      <td>Translation</td>\n",
       "      <td>2</td>\n",
       "    </tr>\n",
       "    <tr>\n",
       "      <th>2</th>\n",
       "      <td>1158</td>\n",
       "      <td>Enrique Lewer</td>\n",
       "      <td>8</td>\n",
       "      <td>IT Architecture</td>\n",
       "      <td>3</td>\n",
       "    </tr>\n",
       "    <tr>\n",
       "      <th>3</th>\n",
       "      <td>1564</td>\n",
       "      <td>Wallie Byrd</td>\n",
       "      <td>18</td>\n",
       "      <td>Natural Language Processing</td>\n",
       "      <td>3</td>\n",
       "    </tr>\n",
       "    <tr>\n",
       "      <th>4</th>\n",
       "      <td>1334</td>\n",
       "      <td>Hannah Ganter</td>\n",
       "      <td>6</td>\n",
       "      <td>Java Programming</td>\n",
       "      <td>4</td>\n",
       "    </tr>\n",
       "  </tbody>\n",
       "</table>\n",
       "</div>"
      ],
      "text/plain": [
       "   EmployeeID          EmpName  CourseID                   CourseName  Rating\n",
       "0        1408   Ignace Ormonde        14             Video Production       3\n",
       "1        1249  Gabriela Balcon        17                  Translation       2\n",
       "2        1158    Enrique Lewer         8              IT Architecture       3\n",
       "3        1564      Wallie Byrd        18  Natural Language Processing       3\n",
       "4        1334    Hannah Ganter         6             Java Programming       4"
      ]
     },
     "execution_count": 2,
     "metadata": {},
     "output_type": "execute_result"
    }
   ],
   "source": [
    "#Loading data\n",
    "\n",
    "from csv import reader\n",
    "import pandas as pd\n",
    "import os\n",
    "import numpy as np\n",
    "import math\n",
    "\n",
    "ratings_data = pd.read_csv(\"employee_course_ratings.csv\")\n",
    "\n",
    "ratings_data.head()"
   ]
  },
  {
   "cell_type": "code",
   "execution_count": 3,
   "metadata": {},
   "outputs": [
    {
     "name": "stdout",
     "output_type": "stream",
     "text": [
      "Total Employees:  638\n",
      "Total Courses:  25\n"
     ]
    }
   ],
   "source": [
    "#Build list of unique Employees\n",
    "emp_list=ratings_data.groupby(\n",
    "    ['EmployeeID','EmpName']).size().reset_index()\n",
    "emp_list.head()\n",
    "print(\"Total Employees: \",len(emp_list))\n",
    "\n",
    "#Build list of unique Courses\n",
    "course_list=ratings_data.groupby(\n",
    "    ['CourseID','CourseName']).size().reset_index()\n",
    "course_list.head()\n",
    "print(\"Total Courses: \", len(course_list))"
   ]
  },
  {
   "cell_type": "code",
   "execution_count": 4,
   "metadata": {},
   "outputs": [],
   "source": [
    "from tensorflow.keras.layers import Input, Embedding, Flatten, Dot, Dense, Concatenate\n",
    "from tensorflow.keras.models import Model\n",
    "\n",
    "#build employee embedding vector\n",
    "#we are using IDs a the direct index to embedding.\n",
    "#Since IDs are continuous, we dont need ID-name mapping.\n",
    "#We can also build a vocabulary alternatively.\n",
    "\n",
    "emp_input = Input(shape=[1], name=\"Emp-Input\")\n",
    "emp_embed = Embedding(2001,  #max value of employee ID\n",
    "                      5,\n",
    "                      name=\"Emp-Embedding\")(emp_input)\n",
    "emp_vec = Flatten(name=\"Emp-Flatten\")(emp_embed)\n",
    "\n",
    "#build course embedding vector\n",
    "course_input = Input(shape=[1],name=\"Course-Input\")\n",
    "course_embed = Embedding(len(course_list) + 1,\n",
    "                         5,\n",
    "                         name=\"Course-Embedding\")(course_input)\n",
    "course_vec = Flatten(name=\"Course-Flatten\")(course_embed)\n",
    "\n",
    "#merge the vectors\n",
    "merged_vec = Concatenate()([emp_vec,course_vec])"
   ]
  },
  {
   "cell_type": "markdown",
   "metadata": {},
   "source": [
    "## 04.05. Building the Keras Rating Model\n",
    "\n",
    "The recommendation works as follows\n",
    "\n",
    "1. Build a model that can predict the rating, a given employee may give to a course he/she has not taken so far\n",
    "2. Use the model to predict possible ratings for all courses, for this employee.\n",
    "3. Recommend the courses that have the top predicted ratings"
   ]
  },
  {
   "cell_type": "code",
   "execution_count": 6,
   "metadata": {},
   "outputs": [
    {
     "name": "stdout",
     "output_type": "stream",
     "text": [
      "Model: \"model_1\"\n",
      "__________________________________________________________________________________________________\n",
      "Layer (type)                    Output Shape         Param #     Connected to                     \n",
      "==================================================================================================\n",
      "Emp-Input (InputLayer)          [(None, 1)]          0                                            \n",
      "__________________________________________________________________________________________________\n",
      "Course-Input (InputLayer)       [(None, 1)]          0                                            \n",
      "__________________________________________________________________________________________________\n",
      "Emp-Embedding (Embedding)       (None, 1, 5)         10005       Emp-Input[0][0]                  \n",
      "__________________________________________________________________________________________________\n",
      "Course-Embedding (Embedding)    (None, 1, 5)         130         Course-Input[0][0]               \n",
      "__________________________________________________________________________________________________\n",
      "Emp-Flatten (Flatten)           (None, 5)            0           Emp-Embedding[0][0]              \n",
      "__________________________________________________________________________________________________\n",
      "Course-Flatten (Flatten)        (None, 5)            0           Course-Embedding[0][0]           \n",
      "__________________________________________________________________________________________________\n",
      "concatenate (Concatenate)       (None, 10)           0           Emp-Flatten[0][0]                \n",
      "                                                                 Course-Flatten[0][0]             \n",
      "__________________________________________________________________________________________________\n",
      "dense_3 (Dense)                 (None, 128)          1408        concatenate[0][0]                \n",
      "__________________________________________________________________________________________________\n",
      "dense_4 (Dense)                 (None, 32)           4128        dense_3[0][0]                    \n",
      "__________________________________________________________________________________________________\n",
      "dense_5 (Dense)                 (None, 1)            33          dense_4[0][0]                    \n",
      "==================================================================================================\n",
      "Total params: 15,704\n",
      "Trainable params: 15,704\n",
      "Non-trainable params: 0\n",
      "__________________________________________________________________________________________________\n",
      "Fitting the model:\n",
      "WARNING:tensorflow:Falling back from v2 loop because of error: Failed to find data adapter that can handle input: (<class 'list'> containing values of types {\"<class 'pandas.core.series.Series'>\"}), <class 'NoneType'>\n",
      "Train on 810 samples, validate on 90 samples\n",
      "Epoch 1/25\n",
      "810/810 [==============================] - 1s 959us/sample - loss: 8.4873 - val_loss: 6.3861\n",
      "Epoch 2/25\n",
      "810/810 [==============================] - 0s 115us/sample - loss: 4.3350 - val_loss: 1.4663\n",
      "Epoch 3/25\n",
      "810/810 [==============================] - 0s 114us/sample - loss: 1.1885 - val_loss: 0.9193\n",
      "Epoch 4/25\n",
      "810/810 [==============================] - 0s 115us/sample - loss: 0.8297 - val_loss: 0.8665\n",
      "Epoch 5/25\n",
      "810/810 [==============================] - 0s 113us/sample - loss: 0.6479 - val_loss: 0.9343\n",
      "Epoch 6/25\n",
      "810/810 [==============================] - 0s 113us/sample - loss: 0.5530 - val_loss: 1.0604\n",
      "Epoch 7/25\n",
      "810/810 [==============================] - 0s 121us/sample - loss: 0.5096 - val_loss: 1.1697\n",
      "Epoch 8/25\n",
      "810/810 [==============================] - 0s 120us/sample - loss: 0.4842 - val_loss: 1.2668\n",
      "Epoch 9/25\n",
      "810/810 [==============================] - 0s 118us/sample - loss: 0.4628 - val_loss: 1.3494\n",
      "Epoch 10/25\n",
      "810/810 [==============================] - 0s 110us/sample - loss: 0.4462 - val_loss: 1.3837\n",
      "Epoch 11/25\n",
      "810/810 [==============================] - 0s 117us/sample - loss: 0.4372 - val_loss: 1.4386\n",
      "Epoch 12/25\n",
      "810/810 [==============================] - 0s 115us/sample - loss: 0.4238 - val_loss: 1.4888\n",
      "Epoch 13/25\n",
      "810/810 [==============================] - 0s 115us/sample - loss: 0.4195 - val_loss: 1.5583\n",
      "Epoch 14/25\n",
      "810/810 [==============================] - 0s 119us/sample - loss: 0.4107 - val_loss: 1.5854\n",
      "Epoch 15/25\n",
      "810/810 [==============================] - 0s 120us/sample - loss: 0.4077 - val_loss: 1.6725\n",
      "Epoch 16/25\n",
      "810/810 [==============================] - 0s 117us/sample - loss: 0.4033 - val_loss: 1.7027\n",
      "Epoch 17/25\n",
      "810/810 [==============================] - 0s 120us/sample - loss: 0.3992 - val_loss: 1.7561\n",
      "Epoch 18/25\n",
      "810/810 [==============================] - 0s 116us/sample - loss: 0.3934 - val_loss: 1.7457\n",
      "Epoch 19/25\n",
      "810/810 [==============================] - 0s 116us/sample - loss: 0.3896 - val_loss: 1.8157\n",
      "Epoch 20/25\n",
      "810/810 [==============================] - 0s 121us/sample - loss: 0.3909 - val_loss: 1.7959\n",
      "Epoch 21/25\n",
      "810/810 [==============================] - 0s 124us/sample - loss: 0.3834 - val_loss: 1.7982\n",
      "Epoch 22/25\n",
      "810/810 [==============================] - 0s 119us/sample - loss: 0.3798 - val_loss: 1.7865\n",
      "Epoch 23/25\n",
      "810/810 [==============================] - 0s 120us/sample - loss: 0.3826 - val_loss: 1.8331\n",
      "Epoch 24/25\n",
      "810/810 [==============================] - 0s 116us/sample - loss: 0.3823 - val_loss: 1.8139\n",
      "Epoch 25/25\n",
      "810/810 [==============================] - 0s 118us/sample - loss: 0.3769 - val_loss: 1.8536\n",
      "Evaluating the model:\n",
      "WARNING:tensorflow:Falling back from v2 loop because of error: Failed to find data adapter that can handle input: (<class 'list'> containing values of types {\"<class 'pandas.core.series.Series'>\"}), <class 'NoneType'>\n",
      "100/100 [==============================] - 0s 82us/sample - loss: 1.9405\n"
     ]
    },
    {
     "data": {
      "text/plain": [
       "1.9405469369888306"
      ]
     },
     "execution_count": 6,
     "metadata": {},
     "output_type": "execute_result"
    }
   ],
   "source": [
    "#Given an Employee and a Course, this model predicts the \n",
    "#rating the employee will give this couse\n",
    "\n",
    "from sklearn.model_selection import train_test_split\n",
    "\n",
    "ratings_train, ratings_test = train_test_split(\n",
    "                                ratings_data, test_size=0.1)\n",
    "\n",
    "#add fully connected layers\n",
    "fc_layer1 = Dense(128,activation=\"relu\")(merged_vec)\n",
    "fc_layer2 = Dense(32, activation=\"relu\")(fc_layer1)\n",
    "model_output = Dense(1)(fc_layer2)\n",
    "\n",
    "rating_model= Model([emp_input,course_input],model_output)\n",
    "\n",
    "rating_model.compile(optimizer=\"adam\",\n",
    "                     loss=\"mean_squared_error\")\n",
    "\n",
    "rating_model.summary()\n",
    "\n",
    "print(\"Fitting the model:\")\n",
    "#Fit the model\n",
    "model_fit = rating_model.fit(\n",
    "    x=[ratings_train.EmployeeID, ratings_train.CourseID],\n",
    "    y=ratings_train.Rating,\n",
    "    epochs=25,\n",
    "    verbose=1,\n",
    "    validation_split=0.1\n",
    "    )\n",
    "\n",
    "print(\"Evaluating the model:\")\n",
    "rating_model.evaluate(\n",
    "    x=[ratings_test.EmployeeID, ratings_test.CourseID],\n",
    "    y=ratings_test.Rating)"
   ]
  },
  {
   "cell_type": "markdown",
   "metadata": {},
   "source": [
    "## 04.06. Recommending Courses with Keras"
   ]
  },
  {
   "cell_type": "code",
   "execution_count": 9,
   "metadata": {},
   "outputs": [
    {
     "name": "stdout",
     "output_type": "stream",
     "text": [
      "WARNING:tensorflow:Falling back from v2 loop because of error: Failed to find data adapter that can handle input: (<class 'list'> containing values of types {\"<class 'pandas.core.series.Series'>\"}), <class 'NoneType'>\n"
     ]
    },
    {
     "data": {
      "text/plain": [
       "array([[4.431149]], dtype=float32)"
      ]
     },
     "execution_count": 9,
     "metadata": {},
     "output_type": "execute_result"
    }
   ],
   "source": [
    "#Predicting the Rating for a given employee and a course\n",
    "#for employee 1029 and course 8\n",
    "\n",
    "rating_model.predict(\n",
    "    [pd.Series([1029]),\n",
    "     pd.Series([8])])"
   ]
  },
  {
   "cell_type": "code",
   "execution_count": 10,
   "metadata": {},
   "outputs": [
    {
     "name": "stdout",
     "output_type": "stream",
     "text": [
      "WARNING:tensorflow:Falling back from v2 loop because of error: Failed to find data adapter that can handle input: (<class 'list'> containing values of types {\"<class 'pandas.core.series.Series'>\"}), <class 'NoneType'>\n",
      "Course Ratings:  [2.9073565 2.687647  4.2957187 4.732367  4.294417  4.7284555 4.370498\n",
      " 4.1126866 4.8004527 4.7115154 4.0866823 3.635514  3.839483  3.571708\n",
      " 4.674847  4.4755597 3.9109774 3.5507913 3.6901422 4.285074  3.7902362\n",
      " 3.7085187 3.7377255]\n",
      "\n",
      "Rating  CourseID CourseName\n",
      "-----------------------------------\n",
      "  4.8      10     Mobile Development\n",
      "  4.7      5     HelpDesk\n",
      "  4.7      7     Project Management\n",
      "  4.7      11     Analytical Reasoning\n",
      "  4.7      16     Audio Production\n"
     ]
    }
   ],
   "source": [
    "emp_to_predict=\"Harriot Laflin\"\n",
    "\n",
    "#Get employee ID for the employee name\n",
    "pred_emp_id=emp_list[emp_list['EmpName'] == emp_to_predict][\"EmployeeID\"].iloc[0]\n",
    "\n",
    "#find Courses already taken by employee. We dont want to predict those.\n",
    "completed_courses=ratings_data[\n",
    "                    ratings_data[\"EmployeeID\"] == pred_emp_id][\"CourseID\"].unique()\n",
    "\n",
    "#Courses not taken by employee\n",
    "new_courses = course_list.query(\"CourseID not in @completed_courses\")[\"CourseID\"]\n",
    "\n",
    "#Create a list with the same employee ID repeated for the same number of times as the\n",
    "#number of new courses. This provides the employee and course Series with same size\n",
    "emp_dummy_list=pd.Series(np.array([pred_emp_id for i in range(len(new_courses))]))\n",
    "\n",
    "#Predict ratings for the new courses for this employee\n",
    "projected_ratings = rating_model.predict([emp_dummy_list,new_courses])\n",
    "flat_ratings = np.array([x[0] for x in projected_ratings])\n",
    "\n",
    "print(\"Course Ratings: \", flat_ratings)\n",
    "\n",
    "#Recommend top 5 courses\n",
    "print(\"\\nRating  CourseID CourseName\\n-----------------------------------\")\n",
    "for idx in (-flat_ratings).argsort()[:5]:\n",
    "    course_id=new_courses.iloc[idx]\n",
    "    course_name=course_list.query(\"CourseID == @course_id\")[\"CourseName\"].iloc[0]\n",
    "    print(\" \", round(flat_ratings[idx],1),\"    \", course_id, \"   \", course_name)\n",
    "\n"
   ]
  },
  {
   "cell_type": "code",
   "execution_count": null,
   "metadata": {},
   "outputs": [],
   "source": []
  }
 ],
 "metadata": {
  "kernelspec": {
   "display_name": "Python 3",
   "language": "python",
   "name": "python3"
  },
  "language_info": {
   "codemirror_mode": {
    "name": "ipython",
    "version": 3
   },
   "file_extension": ".py",
   "mimetype": "text/x-python",
   "name": "python",
   "nbconvert_exporter": "python",
   "pygments_lexer": "ipython3",
   "version": "3.7.7"
  }
 },
 "nbformat": 4,
 "nbformat_minor": 4
}
